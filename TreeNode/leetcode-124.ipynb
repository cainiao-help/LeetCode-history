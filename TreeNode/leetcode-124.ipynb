  {
   "metadata": {},
   "cell_type": "markdown",
   "source": ""
  },
  {
   "cell_type": "markdown",
   "metadata": {},
   "source": [
    "can refer a handwritten picture, pleas upload the picture in /fig/xxx.png\n",
    "answer:<div style=\"text-align:center;width:800px;\"> \n",
    "  <img alt=\"\" src=\"TreeNode/fig/leetcode-124.png\"> \n",
    "</div>\n"
   ]
  }
