{
   "cell_type": "markdown",
   "metadata": {},
   "source": [
      "(./fig/leetcode-124.png)"
   ]
}
