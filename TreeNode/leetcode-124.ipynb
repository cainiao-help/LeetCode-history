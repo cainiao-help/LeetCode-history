{
 "cells": [
 "cell_type": "markdown",
 "metadata": {},
 "source": [
    "answer:<div style=\"text-align:center;width:800px;\"> \n",
    "  <img alt=\"\" src=\"./fig/leetcode-124.png\"> \n",
    "</div>"
   ]
  }
}
